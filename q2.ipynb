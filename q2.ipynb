{
 "cells": [
  {
   "cell_type": "code",
   "execution_count": null,
   "id": "8264c41b-10a8-4c76-b2a7-974ede7d5fae",
   "metadata": {},
   "outputs": [],
   "source": [
    "import numpy as np\n",
    "import pandas as pd"
   ]
  },
  {
   "cell_type": "markdown",
   "id": "2689aa3c-912e-4750-8238-1592368ca40f",
   "metadata": {},
   "source": [
    "## 读取数据"
   ]
  },
  {
   "cell_type": "code",
   "execution_count": null,
   "id": "b2ba72d8-f690-4fa2-91a0-205ddaefda3c",
   "metadata": {},
   "outputs": [],
   "source": [
    "df_hs300 = pd.read_csv(\"01_data/hs300.csv\")\n",
    "df_hs300[\"交易日期\"] = pd.to_datetime(df_hs300[\"交易日期\"])\n",
    "df_hs300_c_s = pd.read_csv(\"01_data/hs300_constituent_stocks.csv\")\n",
    "df_hs300_c_s[\"交易日期\"] = pd.to_datetime(df_hs300_c_s[\"交易日期\"])\n",
    "df_hs300_c_s_p = pd.read_csv(\"01_data/hs300_constituent_stocks_predict.csv\")\n",
    "df_hs300_c_s_p = df_hs300_c_s_p.rename(columns={'date': '交易日期','code': '股票代码'})\n",
    "df_hs300_c_s_p[\"交易日期\"] = pd.to_datetime(df_hs300_c_s_p[\"交易日期\"])"
   ]
  },
  {
   "cell_type": "markdown",
   "id": "11f07083-49d3-4099-a6cb-c34425fdb29d",
   "metadata": {},
   "source": [
    "## 合并真实值与预测"
   ]
  },
  {
   "cell_type": "code",
   "execution_count": null,
   "id": "ab2a02f5-7d31-4353-82ac-b344d6e1a2a3",
   "metadata": {},
   "outputs": [],
   "source": [
    "df_hs300_c_s_p_merge = pd.merge(df_hs300_c_s, df_hs300_c_s_p, on = [\"交易日期\", \"股票代码\"], how = \"inner\")"
   ]
  },
  {
   "cell_type": "markdown",
   "id": "6d96ea36-20e7-4c6c-8979-5b79a7b40973",
   "metadata": {},
   "source": [
    "## 策略与评估"
   ]
  },
  {
   "cell_type": "markdown",
   "id": "536f9308-4dd3-4b19-8b42-f20320a34253",
   "metadata": {},
   "source": [
    "### 1 全仓购买预测值排序为1的股票"
   ]
  },
  {
   "cell_type": "code",
   "execution_count": null,
   "id": "8567a804-24e5-4cdb-a64e-1cd2fdfaf076",
   "metadata": {},
   "outputs": [],
   "source": [
    "# 先按股票代码排序，方便获取预测值第一的股票下一天的收益\n",
    "df_hs300_c_s_p_merge_new = df_hs300_c_s_p_merge.sort_values(by = ['股票代码','交易日期'],ascending=True)"
   ]
  },
  {
   "cell_type": "code",
   "execution_count": null,
   "id": "0c3d4960-8cb2-4d48-bf8e-48cf0a5cee68",
   "metadata": {},
   "outputs": [],
   "source": [
    "# 获取预测值第一的股票下一天的收益\n",
    "df_hs300_c_s_p1_rate = df_hs300_c_s_p_merge_new[df_hs300_c_s_p_merge_new['pred'].shift(1) == 1.0].sort_values(by = ['交易日期'],ascending=True)[['交易日期','涨跌幅（%）']]\n",
    "df_hs300_c_s_p1_rate['pred1收益率'] = df_hs300_c_s_p1_rate['涨跌幅（%）'] + 1"
   ]
  },
  {
   "cell_type": "code",
   "execution_count": null,
   "id": "34b5bdb7-c450-475c-8141-c9f6c30aaebe",
   "metadata": {},
   "outputs": [],
   "source": [
    "# 获取沪深300涨跌幅\n",
    "df_hs300_rate = df_hs300[pd.to_datetime('2021-01-04') <= df_hs300[\"交易日期\"]][['交易日期','涨跌幅(%)']]\n",
    "df_hs300_rate['hs300收益率'] = df_hs300_rate['涨跌幅(%)']/100 + 1"
   ]
  },
  {
   "cell_type": "code",
   "execution_count": null,
   "id": "1076aa17-1b4a-45a0-b8af-b1998abbc113",
   "metadata": {},
   "outputs": [],
   "source": [
    "# 计算选取\n",
    "df_hs300_c_s_p1_rate = pd.merge(df_hs300_c_s_p1_rate, df_hs300_rate, on = [\"交易日期\"], how = \"inner\")\n",
    "df_hs300_c_s_p1_rate['超额收益'] = df_hs300_c_s_p1_rate['pred1收益率'] - df_hs300_c_s_p1_rate['hs300收益率']"
   ]
  },
  {
   "cell_type": "code",
   "execution_count": null,
   "id": "14688dfe-e8e7-4f2a-ad3f-b796ae8a9ac6",
   "metadata": {},
   "outputs": [],
   "source": []
  }
 ],
 "metadata": {
  "kernelspec": {
   "display_name": "pytorchcpu",
   "language": "python",
   "name": "pytorchcpu"
  },
  "language_info": {
   "codemirror_mode": {
    "name": "ipython",
    "version": 3
   },
   "file_extension": ".py",
   "mimetype": "text/x-python",
   "name": "python",
   "nbconvert_exporter": "python",
   "pygments_lexer": "ipython3",
   "version": "3.11.5"
  }
 },
 "nbformat": 4,
 "nbformat_minor": 5
}
