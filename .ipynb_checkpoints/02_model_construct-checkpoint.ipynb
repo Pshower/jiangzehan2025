{
 "cells": [
  {
   "cell_type": "code",
   "execution_count": null,
   "id": "8b5cb16d-b378-48a9-971f-d649573934f5",
   "metadata": {},
   "outputs": [],
   "source": []
  },
  {
   "cell_type": "markdown",
   "id": "ca5390ae-15ff-41c2-9856-9fbe380911e7",
   "metadata": {},
   "source": [
    "## 01. Model Construct"
   ]
  },
  {
   "cell_type": "code",
   "execution_count": 5,
   "id": "54424544-bfbe-4dba-acce-59b66c791fdf",
   "metadata": {},
   "outputs": [],
   "source": [
    "import torch\n",
    "from torch import nn\n",
    "from plugin import block"
   ]
  },
  {
   "cell_type": "code",
   "execution_count": null,
   "id": "d18d996f-49c8-4ca2-91e7-290a5c87e4c8",
   "metadata": {},
   "outputs": [],
   "source": [
    "class Stock_Eva(nn.Module):\n",
    "    def __init__(self):\n",
    "        super(self, Stock_Eva).__init__()\n",
    "\n",
    "        self.share_dense = nn.ModuleList(torch.nn.Linear(9, 128), nn.ReLU(), torch.nn.Linear(128, 64))\n",
    "\n",
    "        self.price_cross = nn.ModuleList(torch.nn.Linear(4, 128), nn.ReLU(), torch.nn.Linear(128, 64))\n",
    "        self.volumn_cross = nn.ModuleList(torch.nn.Linear(2, 128), nn.ReLU(), torch.nn.Linear(128, 64))\n",
    "        self.overall_cross = nn.ModuleList(torch.nn.Linear(2, 128), nn.ReLU(), torch.nn.Linear(128, 64))\n",
    "        \n",
    "    \n",
    "    def forward(self, input_data):\n",
    "        self.price_data = input_data[:, :4]\n",
    "        self.volumn_data = input_data[:, 4:6]\n",
    "        self.overall_data = imput_data[:, 6:8]\n",
    "\n",
    "        for i in range(len(self.input_dense)):\n",
    "            if i == 1:\n",
    "                self.price_data = self.price_cross[i](self.price_data)\n",
    "                self.volumn_data = self.volumn_cross[i](self.volumn_data)\n",
    "                self.overall_data = self.price_cross[i](self.overall_data)\n",
    "                input_data = self.share_dense[i](input_data)\n",
    "            else:\n",
    "                self.price_data = self.price_cross[i](self.price_data)\n",
    "                self.volumn_data = self.volumn_cross[i](self.volumn_data)\n",
    "                self.overall_data = self.price_cross[i](self.overall_data)\n",
    "                input_data = self.share_dense[i](input_data) + self.price_data + self.volumn_data + self.overall_data\n",
    "\n",
    "        # todo"
   ]
  },
  {
   "cell_type": "code",
   "execution_count": null,
   "id": "82c39bd5-a89d-472e-b0c7-f2fc0d2d8ca6",
   "metadata": {},
   "outputs": [],
   "source": []
  },
  {
   "cell_type": "code",
   "execution_count": null,
   "id": "7812d121-18ae-4b3f-8c0b-c2bcaeb90d95",
   "metadata": {},
   "outputs": [],
   "source": []
  },
  {
   "cell_type": "code",
   "execution_count": null,
   "id": "b3f60b74-7d26-42ff-8832-d81d8ba6ad7e",
   "metadata": {},
   "outputs": [],
   "source": []
  },
  {
   "cell_type": "code",
   "execution_count": null,
   "id": "b1f97abd-1edf-4fbc-b7a4-bc91368db85a",
   "metadata": {},
   "outputs": [],
   "source": []
  }
 ],
 "metadata": {
  "kernelspec": {
   "display_name": "Python 3 (ipykernel)",
   "language": "python",
   "name": "python3"
  },
  "language_info": {
   "codemirror_mode": {
    "name": "ipython",
    "version": 3
   },
   "file_extension": ".py",
   "mimetype": "text/x-python",
   "name": "python",
   "nbconvert_exporter": "python",
   "pygments_lexer": "ipython3",
   "version": "3.12.8"
  }
 },
 "nbformat": 4,
 "nbformat_minor": 5
}
