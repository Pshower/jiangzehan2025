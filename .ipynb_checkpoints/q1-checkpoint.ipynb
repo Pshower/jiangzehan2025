{
 "cells": [
  {
   "cell_type": "code",
   "execution_count": 23,
   "id": "initial_id",
   "metadata": {
    "collapsed": true,
    "ExecuteTime": {
     "end_time": "2025-04-04T04:07:20.017502Z",
     "start_time": "2025-04-04T04:07:20.013158Z"
    }
   },
   "outputs": [],
   "source": [
    "import pandas as pd\n",
    "import numpy as np"
   ]
  },
  {
   "cell_type": "code",
   "execution_count": 24,
   "outputs": [
    {
     "data": {
      "text/plain": "            交易日期     开盘点位     最高点位     最低点位      收盘价     成交量(万股)       成交额(万)  \\\n0     2007-01-04  2073.25  2139.49  2054.24  2067.09  1067197.07   8238107.26   \n1     2007-01-05  2051.15  2083.40  2030.76  2072.88   927434.47   6802606.02   \n2     2007-01-08  2072.01  2131.74  2071.72  2131.56   847679.09   6630393.61   \n3     2007-01-09  2137.49  2201.36  2128.06  2200.09   815776.29   6545619.27   \n4     2007-01-10  2210.76  2255.97  2194.77  2255.97   849049.79   6882262.48   \n...          ...      ...      ...      ...      ...         ...          ...   \n4128  2023-12-25  3330.33  3348.88  3330.33  3347.45   745426.93  12183832.71   \n4129  2023-12-26  3345.40  3345.42  3315.94  3324.79   747329.35  12168999.74   \n4130  2023-12-27  3326.93  3341.27  3309.67  3336.36   944039.28  14092492.37   \n4131  2023-12-28  3335.56  3423.40  3331.21  3414.54  1480648.51  24585563.45   \n4132  2023-12-29  3411.11  3432.54  3409.58  3431.11  1149289.32  19357318.05   \n\n      涨跌幅(%)  \n0       1.28  \n1       0.28  \n2       2.83  \n3       3.22  \n4       2.54  \n...      ...  \n4128    0.31  \n4129   -0.68  \n4130    0.35  \n4131    2.34  \n4132    0.49  \n\n[4133 rows x 8 columns]",
      "text/html": "<div>\n<style scoped>\n    .dataframe tbody tr th:only-of-type {\n        vertical-align: middle;\n    }\n\n    .dataframe tbody tr th {\n        vertical-align: top;\n    }\n\n    .dataframe thead th {\n        text-align: right;\n    }\n</style>\n<table border=\"1\" class=\"dataframe\">\n  <thead>\n    <tr style=\"text-align: right;\">\n      <th></th>\n      <th>交易日期</th>\n      <th>开盘点位</th>\n      <th>最高点位</th>\n      <th>最低点位</th>\n      <th>收盘价</th>\n      <th>成交量(万股)</th>\n      <th>成交额(万)</th>\n      <th>涨跌幅(%)</th>\n    </tr>\n  </thead>\n  <tbody>\n    <tr>\n      <th>0</th>\n      <td>2007-01-04</td>\n      <td>2073.25</td>\n      <td>2139.49</td>\n      <td>2054.24</td>\n      <td>2067.09</td>\n      <td>1067197.07</td>\n      <td>8238107.26</td>\n      <td>1.28</td>\n    </tr>\n    <tr>\n      <th>1</th>\n      <td>2007-01-05</td>\n      <td>2051.15</td>\n      <td>2083.40</td>\n      <td>2030.76</td>\n      <td>2072.88</td>\n      <td>927434.47</td>\n      <td>6802606.02</td>\n      <td>0.28</td>\n    </tr>\n    <tr>\n      <th>2</th>\n      <td>2007-01-08</td>\n      <td>2072.01</td>\n      <td>2131.74</td>\n      <td>2071.72</td>\n      <td>2131.56</td>\n      <td>847679.09</td>\n      <td>6630393.61</td>\n      <td>2.83</td>\n    </tr>\n    <tr>\n      <th>3</th>\n      <td>2007-01-09</td>\n      <td>2137.49</td>\n      <td>2201.36</td>\n      <td>2128.06</td>\n      <td>2200.09</td>\n      <td>815776.29</td>\n      <td>6545619.27</td>\n      <td>3.22</td>\n    </tr>\n    <tr>\n      <th>4</th>\n      <td>2007-01-10</td>\n      <td>2210.76</td>\n      <td>2255.97</td>\n      <td>2194.77</td>\n      <td>2255.97</td>\n      <td>849049.79</td>\n      <td>6882262.48</td>\n      <td>2.54</td>\n    </tr>\n    <tr>\n      <th>...</th>\n      <td>...</td>\n      <td>...</td>\n      <td>...</td>\n      <td>...</td>\n      <td>...</td>\n      <td>...</td>\n      <td>...</td>\n      <td>...</td>\n    </tr>\n    <tr>\n      <th>4128</th>\n      <td>2023-12-25</td>\n      <td>3330.33</td>\n      <td>3348.88</td>\n      <td>3330.33</td>\n      <td>3347.45</td>\n      <td>745426.93</td>\n      <td>12183832.71</td>\n      <td>0.31</td>\n    </tr>\n    <tr>\n      <th>4129</th>\n      <td>2023-12-26</td>\n      <td>3345.40</td>\n      <td>3345.42</td>\n      <td>3315.94</td>\n      <td>3324.79</td>\n      <td>747329.35</td>\n      <td>12168999.74</td>\n      <td>-0.68</td>\n    </tr>\n    <tr>\n      <th>4130</th>\n      <td>2023-12-27</td>\n      <td>3326.93</td>\n      <td>3341.27</td>\n      <td>3309.67</td>\n      <td>3336.36</td>\n      <td>944039.28</td>\n      <td>14092492.37</td>\n      <td>0.35</td>\n    </tr>\n    <tr>\n      <th>4131</th>\n      <td>2023-12-28</td>\n      <td>3335.56</td>\n      <td>3423.40</td>\n      <td>3331.21</td>\n      <td>3414.54</td>\n      <td>1480648.51</td>\n      <td>24585563.45</td>\n      <td>2.34</td>\n    </tr>\n    <tr>\n      <th>4132</th>\n      <td>2023-12-29</td>\n      <td>3411.11</td>\n      <td>3432.54</td>\n      <td>3409.58</td>\n      <td>3431.11</td>\n      <td>1149289.32</td>\n      <td>19357318.05</td>\n      <td>0.49</td>\n    </tr>\n  </tbody>\n</table>\n<p>4133 rows × 8 columns</p>\n</div>"
     },
     "execution_count": 24,
     "metadata": {},
     "output_type": "execute_result"
    }
   ],
   "source": [
    "hs300 = pd.read_csv(\"hs300.csv\")\n",
    "hs300"
   ],
   "metadata": {
    "collapsed": false,
    "ExecuteTime": {
     "end_time": "2025-04-04T04:07:20.373199Z",
     "start_time": "2025-04-04T04:07:20.353117Z"
    }
   },
   "id": "1b54627820e32e37"
  },
  {
   "cell_type": "code",
   "execution_count": 25,
   "outputs": [],
   "source": [
    "hs300[\"交易日期\"] = pd.to_datetime(hs300[\"交易日期\"])\n",
    "hs300_after_2020 = hs300[hs300['交易日期']>=pd.to_datetime(\"2020-01-02\")]"
   ],
   "metadata": {
    "collapsed": false,
    "ExecuteTime": {
     "end_time": "2025-04-04T04:07:20.786204Z",
     "start_time": "2025-04-04T04:07:20.782940Z"
    }
   },
   "id": "8cebc55abf379cc7"
  },
  {
   "cell_type": "code",
   "execution_count": 26,
   "outputs": [],
   "source": [
    "r = hs300_after_2020['涨跌幅(%)'].tolist()\n",
    "r = [x / 100 for x in r]\n",
    "N = len(r)"
   ],
   "metadata": {
    "collapsed": false,
    "ExecuteTime": {
     "end_time": "2025-04-04T04:07:21.746516Z",
     "start_time": "2025-04-04T04:07:21.739264Z"
    }
   },
   "id": "f4cdf859b1e477b6"
  },
  {
   "cell_type": "code",
   "execution_count": 27,
   "outputs": [
    {
     "name": "stdout",
     "output_type": "stream",
     "text": [
      "累计收益: 3.5107\n",
      "最大回撤: 0.0287\n",
      "夏普比率: 0.2400\n"
     ]
    }
   ],
   "source": [
    "# 初始化DP表\n",
    "dp = np.zeros((N+1, 101))  # dp[t][s]表示第t天仓位为s时的最大累计收益\n",
    "dp[0, 0] = 1.0\n",
    "path = np.zeros((N+1, 101), dtype=int)  # 路径回溯\n",
    "\n",
    "# 动态规划求解\n",
    "for t in range(1, N+1):\n",
    "    for s_prev in range(101):\n",
    "        if dp[t-1, s_prev] == 0:\n",
    "            continue\n",
    "        delta_min = max(-10, -s_prev)\n",
    "        delta_max = min(10, 100 - s_prev)\n",
    "        for delta in range(delta_min, delta_max + 1):\n",
    "            s_new = s_prev + delta\n",
    "            if s_new < 0 or s_new > 100:\n",
    "                continue\n",
    "            daily_return = (s_prev / 100) * r[t-1]\n",
    "            new_value = dp[t-1, s_prev] * (1 + daily_return)\n",
    "            if new_value > dp[t, s_new]:\n",
    "                dp[t, s_new] = new_value\n",
    "                path[t, s_new] = s_prev\n",
    "\n",
    "# 回溯最优路径\n",
    "s_optimal = np.zeros(N+1, dtype=int)\n",
    "s_optimal[N] = np.argmax(dp[N])\n",
    "for t in range(N, 0, -1):\n",
    "    s_optimal[t-1] = path[t, s_optimal[t]]\n",
    "\n",
    "# 计算评估指标\n",
    "value = np.zeros(N+1)\n",
    "value[0] = 1.0\n",
    "for t in range(1, N+1):\n",
    "    value[t] = value[t-1] * (1 + (s_optimal[t-1] / 100) * r[t-1])\n",
    "\n",
    "cumulative_return = value[-1] - 1\n",
    "peak = 1.0\n",
    "max_drawdown = 0.0\n",
    "for t in range(1, N+1):\n",
    "    if value[t] > peak:\n",
    "        peak = value[t]\n",
    "    else:\n",
    "        drawdown = (peak - value[t]) / peak\n",
    "        max_drawdown = max(max_drawdown, drawdown)\n",
    "\n",
    "daily_returns = [(s_optimal[t-1] / 100) * r[t-1] for t in range(1, N+1)]\n",
    "sharpe_ratio = np.mean(daily_returns) / np.std(daily_returns) if np.std(daily_returns) != 0 else 0\n",
    "\n",
    "print(f\"累计收益: {cumulative_return:.4f}\")\n",
    "print(f\"最大回撤: {max_drawdown:.4f}\")\n",
    "print(f\"夏普比率: {sharpe_ratio:.4f}\")"
   ],
   "metadata": {
    "collapsed": false,
    "ExecuteTime": {
     "end_time": "2025-04-04T04:07:23.500218Z",
     "start_time": "2025-04-04T04:07:22.677859Z"
    }
   },
   "id": "5a2eacbffe789472"
  },
  {
   "cell_type": "code",
   "execution_count": null,
   "outputs": [],
   "source": [],
   "metadata": {
    "collapsed": false
   },
   "id": "a03193e0f8062c44"
  }
 ],
 "metadata": {
  "kernelspec": {
   "display_name": "Python 3",
   "language": "python",
   "name": "python3"
  },
  "language_info": {
   "codemirror_mode": {
    "name": "ipython",
    "version": 2
   },
   "file_extension": ".py",
   "mimetype": "text/x-python",
   "name": "python",
   "nbconvert_exporter": "python",
   "pygments_lexer": "ipython2",
   "version": "2.7.6"
  }
 },
 "nbformat": 4,
 "nbformat_minor": 5
}
